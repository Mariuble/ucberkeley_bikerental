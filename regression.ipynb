{
 "cells": [
  {
   "cell_type": "markdown",
   "id": "71ea91bc-0223-4418-8f65-24f585897ba7",
   "metadata": {},
   "source": [
    "In this notebook, we will use regression algorithms to predict the number of rented bikes for a given day"
   ]
  },
  {
   "cell_type": "markdown",
   "id": "e8966fe6-2c9b-4ab5-aa61-5bdeb9bed533",
   "metadata": {},
   "source": [
    "### Load data"
   ]
  },
  {
   "cell_type": "code",
   "execution_count": null,
   "id": "cd23f85c-89fc-4b91-9073-1d0bf2c9ab5e",
   "metadata": {},
   "outputs": [],
   "source": [
    "rental = pd.read_csv('data/rental.csv')"
   ]
  },
  {
   "cell_type": "markdown",
   "id": "a5df0b9f-c1f7-465c-8937-86fa69254b80",
   "metadata": {},
   "source": [
    "# Predictive modeling"
   ]
  },
  {
   "cell_type": "markdown",
   "id": "3f9a691c-b42f-42a7-bece-527dc740ec85",
   "metadata": {},
   "source": [
    "Standardization function is copied from PS4:"
   ]
  },
  {
   "cell_type": "code",
   "execution_count": 13,
   "id": "577e7fa2-07b1-47b3-a8be-caf73e1612a2",
   "metadata": {},
   "outputs": [],
   "source": [
    "import numpy as np\n",
    "\n",
    "def standardize(raw_data):\n",
    "    return ((raw_data - np.mean(raw_data, axis = 0)) / np.std(raw_data, axis = 0))"
   ]
  },
  {
   "cell_type": "code",
   "execution_count": 14,
   "id": "ae7b2a34-6558-4ba1-be58-0e8a9b1d3851",
   "metadata": {},
   "outputs": [
    {
     "data": {
      "text/html": [
       "<div>\n",
       "<style scoped>\n",
       "    .dataframe tbody tr th:only-of-type {\n",
       "        vertical-align: middle;\n",
       "    }\n",
       "\n",
       "    .dataframe tbody tr th {\n",
       "        vertical-align: top;\n",
       "    }\n",
       "\n",
       "    .dataframe thead th {\n",
       "        text-align: right;\n",
       "    }\n",
       "</style>\n",
       "<table border=\"1\" class=\"dataframe\">\n",
       "  <thead>\n",
       "    <tr style=\"text-align: right;\">\n",
       "      <th></th>\n",
       "      <th>instant</th>\n",
       "      <th>temp</th>\n",
       "      <th>atemp</th>\n",
       "      <th>hum</th>\n",
       "      <th>windspeed</th>\n",
       "      <th>season_1</th>\n",
       "      <th>season_2</th>\n",
       "      <th>season_3</th>\n",
       "      <th>season_4</th>\n",
       "      <th>year_0</th>\n",
       "      <th>...</th>\n",
       "      <th>weekday_3</th>\n",
       "      <th>weekday_4</th>\n",
       "      <th>weekday_5</th>\n",
       "      <th>weekday_6</th>\n",
       "      <th>workingday_0</th>\n",
       "      <th>workingday_1</th>\n",
       "      <th>weathersit_1</th>\n",
       "      <th>weathersit_2</th>\n",
       "      <th>weathersit_3</th>\n",
       "      <th>weathersit_4</th>\n",
       "    </tr>\n",
       "  </thead>\n",
       "  <tbody>\n",
       "    <tr>\n",
       "      <th>0</th>\n",
       "      <td>1</td>\n",
       "      <td>0.24</td>\n",
       "      <td>0.2879</td>\n",
       "      <td>0.81</td>\n",
       "      <td>0.0</td>\n",
       "      <td>1.0</td>\n",
       "      <td>0.0</td>\n",
       "      <td>0.0</td>\n",
       "      <td>0.0</td>\n",
       "      <td>1.0</td>\n",
       "      <td>...</td>\n",
       "      <td>0.0</td>\n",
       "      <td>0.0</td>\n",
       "      <td>0.0</td>\n",
       "      <td>1.0</td>\n",
       "      <td>1.0</td>\n",
       "      <td>0.0</td>\n",
       "      <td>1.0</td>\n",
       "      <td>0.0</td>\n",
       "      <td>0.0</td>\n",
       "      <td>0.0</td>\n",
       "    </tr>\n",
       "    <tr>\n",
       "      <th>1</th>\n",
       "      <td>2</td>\n",
       "      <td>0.22</td>\n",
       "      <td>0.2727</td>\n",
       "      <td>0.80</td>\n",
       "      <td>0.0</td>\n",
       "      <td>1.0</td>\n",
       "      <td>0.0</td>\n",
       "      <td>0.0</td>\n",
       "      <td>0.0</td>\n",
       "      <td>1.0</td>\n",
       "      <td>...</td>\n",
       "      <td>0.0</td>\n",
       "      <td>0.0</td>\n",
       "      <td>0.0</td>\n",
       "      <td>1.0</td>\n",
       "      <td>1.0</td>\n",
       "      <td>0.0</td>\n",
       "      <td>1.0</td>\n",
       "      <td>0.0</td>\n",
       "      <td>0.0</td>\n",
       "      <td>0.0</td>\n",
       "    </tr>\n",
       "    <tr>\n",
       "      <th>2</th>\n",
       "      <td>3</td>\n",
       "      <td>0.22</td>\n",
       "      <td>0.2727</td>\n",
       "      <td>0.80</td>\n",
       "      <td>0.0</td>\n",
       "      <td>1.0</td>\n",
       "      <td>0.0</td>\n",
       "      <td>0.0</td>\n",
       "      <td>0.0</td>\n",
       "      <td>1.0</td>\n",
       "      <td>...</td>\n",
       "      <td>0.0</td>\n",
       "      <td>0.0</td>\n",
       "      <td>0.0</td>\n",
       "      <td>1.0</td>\n",
       "      <td>1.0</td>\n",
       "      <td>0.0</td>\n",
       "      <td>1.0</td>\n",
       "      <td>0.0</td>\n",
       "      <td>0.0</td>\n",
       "      <td>0.0</td>\n",
       "    </tr>\n",
       "    <tr>\n",
       "      <th>3</th>\n",
       "      <td>4</td>\n",
       "      <td>0.24</td>\n",
       "      <td>0.2879</td>\n",
       "      <td>0.75</td>\n",
       "      <td>0.0</td>\n",
       "      <td>1.0</td>\n",
       "      <td>0.0</td>\n",
       "      <td>0.0</td>\n",
       "      <td>0.0</td>\n",
       "      <td>1.0</td>\n",
       "      <td>...</td>\n",
       "      <td>0.0</td>\n",
       "      <td>0.0</td>\n",
       "      <td>0.0</td>\n",
       "      <td>1.0</td>\n",
       "      <td>1.0</td>\n",
       "      <td>0.0</td>\n",
       "      <td>1.0</td>\n",
       "      <td>0.0</td>\n",
       "      <td>0.0</td>\n",
       "      <td>0.0</td>\n",
       "    </tr>\n",
       "    <tr>\n",
       "      <th>4</th>\n",
       "      <td>5</td>\n",
       "      <td>0.24</td>\n",
       "      <td>0.2879</td>\n",
       "      <td>0.75</td>\n",
       "      <td>0.0</td>\n",
       "      <td>1.0</td>\n",
       "      <td>0.0</td>\n",
       "      <td>0.0</td>\n",
       "      <td>0.0</td>\n",
       "      <td>1.0</td>\n",
       "      <td>...</td>\n",
       "      <td>0.0</td>\n",
       "      <td>0.0</td>\n",
       "      <td>0.0</td>\n",
       "      <td>1.0</td>\n",
       "      <td>1.0</td>\n",
       "      <td>0.0</td>\n",
       "      <td>1.0</td>\n",
       "      <td>0.0</td>\n",
       "      <td>0.0</td>\n",
       "      <td>0.0</td>\n",
       "    </tr>\n",
       "  </tbody>\n",
       "</table>\n",
       "<p>5 rows × 62 columns</p>\n",
       "</div>"
      ],
      "text/plain": [
       "   instant  temp   atemp   hum  windspeed  season_1  season_2  season_3  \\\n",
       "0        1  0.24  0.2879  0.81        0.0       1.0       0.0       0.0   \n",
       "1        2  0.22  0.2727  0.80        0.0       1.0       0.0       0.0   \n",
       "2        3  0.22  0.2727  0.80        0.0       1.0       0.0       0.0   \n",
       "3        4  0.24  0.2879  0.75        0.0       1.0       0.0       0.0   \n",
       "4        5  0.24  0.2879  0.75        0.0       1.0       0.0       0.0   \n",
       "\n",
       "   season_4  year_0  ...  weekday_3  weekday_4  weekday_5  weekday_6  \\\n",
       "0       0.0     1.0  ...        0.0        0.0        0.0        1.0   \n",
       "1       0.0     1.0  ...        0.0        0.0        0.0        1.0   \n",
       "2       0.0     1.0  ...        0.0        0.0        0.0        1.0   \n",
       "3       0.0     1.0  ...        0.0        0.0        0.0        1.0   \n",
       "4       0.0     1.0  ...        0.0        0.0        0.0        1.0   \n",
       "\n",
       "   workingday_0  workingday_1  weathersit_1  weathersit_2  weathersit_3  \\\n",
       "0           1.0           0.0           1.0           0.0           0.0   \n",
       "1           1.0           0.0           1.0           0.0           0.0   \n",
       "2           1.0           0.0           1.0           0.0           0.0   \n",
       "3           1.0           0.0           1.0           0.0           0.0   \n",
       "4           1.0           0.0           1.0           0.0           0.0   \n",
       "\n",
       "   weathersit_4  \n",
       "0           0.0  \n",
       "1           0.0  \n",
       "2           0.0  \n",
       "3           0.0  \n",
       "4           0.0  \n",
       "\n",
       "[5 rows x 62 columns]"
      ]
     },
     "execution_count": 14,
     "metadata": {},
     "output_type": "execute_result"
    }
   ],
   "source": [
    "from sklearn.model_selection import train_test_split\n",
    "\n",
    "X = data.loc[:, data.columns != 'cnt']\n",
    "y = data['cnt']\n",
    "\n",
    "X_train, X_test, y_train, y_test = train_test_split(X, y, test_size=0.2)\n",
    "\n",
    "X.head()"
   ]
  },
  {
   "cell_type": "markdown",
   "id": "0c6dbccd-a3a3-41d3-ac67-c859c7d596d7",
   "metadata": {},
   "source": [
    "## Method 1: Logistic Regression"
   ]
  },
  {
   "cell_type": "code",
   "execution_count": 15,
   "id": "37669474-9d28-4804-8642-e0e296ea265a",
   "metadata": {},
   "outputs": [
    {
     "name": "stdout",
     "output_type": "stream",
     "text": [
      "0.014672036823935558\n"
     ]
    },
    {
     "name": "stderr",
     "output_type": "stream",
     "text": [
      "/Library/Frameworks/Python.framework/Versions/3.10/lib/python3.10/site-packages/sklearn/linear_model/_logistic.py:458: ConvergenceWarning: lbfgs failed to converge (status=1):\n",
      "STOP: TOTAL NO. of ITERATIONS REACHED LIMIT.\n",
      "\n",
      "Increase the number of iterations (max_iter) or scale the data as shown in:\n",
      "    https://scikit-learn.org/stable/modules/preprocessing.html\n",
      "Please also refer to the documentation for alternative solver options:\n",
      "    https://scikit-learn.org/stable/modules/linear_model.html#logistic-regression\n",
      "  n_iter_i = _check_optimize_result(\n"
     ]
    }
   ],
   "source": [
    "from sklearn.linear_model import LogisticRegression\n",
    "\n",
    "log_reg = LogisticRegression()\n",
    "log_reg.fit(X_train, y_train)\n",
    "score = log_reg.score(X_test, y_test)\n",
    "print(score)"
   ]
  },
  {
   "cell_type": "markdown",
   "id": "3cfd8cac-e3d8-4ed3-a81c-142e0457dbff",
   "metadata": {},
   "source": [
    "## Method 2: Multiple Linear Regression"
   ]
  },
  {
   "cell_type": "code",
   "execution_count": 41,
   "id": "98151df9-6a45-4eda-aa0d-fe8401472edf",
   "metadata": {},
   "outputs": [
    {
     "name": "stdout",
     "output_type": "stream",
     "text": [
      "Predictive score on training data 0.6896\n",
      "Predictive score on test data 0.6719\n"
     ]
    }
   ],
   "source": [
    "from sklearn.linear_model import LinearRegression\n",
    "\n",
    "lin_reg = LinearRegression()\n",
    "lin_reg.fit(X_train, y_train)\n",
    "score = lin_reg.score(X_train, y_train)\n",
    "print(f'Predictive score on training data {score:.4f}')\n",
    "\n",
    "score = lin_reg.score(X_test, y_test)\n",
    "print(f'Predictive score on test data {score:.4f}')"
   ]
  },
  {
   "cell_type": "markdown",
   "id": "addc52c8-3e9f-4898-9ec2-7ce78e84692a",
   "metadata": {},
   "source": [
    "## Method 3: K-Nearest Neighbors"
   ]
  },
  {
   "cell_type": "code",
   "execution_count": 42,
   "id": "2f59c80e-7255-4ded-b257-6ded60c34970",
   "metadata": {},
   "outputs": [
    {
     "name": "stdout",
     "output_type": "stream",
     "text": [
      "Predictive score on training data 0.1318\n",
      "Predictive score on test data 0.0158\n"
     ]
    }
   ],
   "source": [
    "from sklearn.neighbors import KNeighborsClassifier\n",
    "\n",
    "knn = KNeighborsClassifier()\n",
    "knn.fit(X_train, y_train)\n",
    "pred = knn.predict(X_test)\n",
    "train_score = knn.score(X_train, y_train)\n",
    "print(f'Predictive score on training data {train_score:.4f}')\n",
    "test_score = knn.score(X_test, y_test)\n",
    "print(f'Predictive score on test data {test_score:.4f}')"
   ]
  },
  {
   "cell_type": "code",
   "execution_count": 43,
   "id": "ed8a2311-970d-4912-9de0-e5820eadafb0",
   "metadata": {},
   "outputs": [
    {
     "name": "stderr",
     "output_type": "stream",
     "text": [
      "/Library/Frameworks/Python.framework/Versions/3.10/lib/python3.10/site-packages/sklearn/model_selection/_split.py:700: UserWarning: The least populated class in y has only 1 members, which is less than n_splits=5.\n",
      "  warnings.warn(\n"
     ]
    },
    {
     "name": "stdout",
     "output_type": "stream",
     "text": [
      "Predictive score on training data 0.2115\n",
      "Predictive score on test data 0.0125\n"
     ]
    }
   ],
   "source": [
    "from sklearn.model_selection import GridSearchCV\n",
    "\n",
    "knn_tuned = KNeighborsClassifier()\n",
    "param_grid = {'n_neighbors':range(1,15), 'p':range(1,3)}\n",
    "grid_search = GridSearchCV(knn_tuned, param_grid, return_train_score=True)\n",
    "grid_search.fit(X_train, y_train)\n",
    "test_accuracy = grid_search.cv_results_['mean_test_score'].mean()\n",
    "train_accuracy = grid_search.cv_results_['mean_train_score'].mean()\n",
    "\n",
    "print(f'Predictive score on training data {train_accuracy:.4f}')\n",
    "print(f'Predictive score on test data {test_accuracy:.4f}')"
   ]
  },
  {
   "cell_type": "markdown",
   "id": "807e9225-f177-4d46-8e30-883c28700102",
   "metadata": {},
   "source": [
    "## Method 4. Gradient Boosting"
   ]
  },
  {
   "cell_type": "code",
   "execution_count": 48,
   "id": "7e18eaec-6c10-421a-800d-5585c0962aae",
   "metadata": {},
   "outputs": [
    {
     "name": "stdout",
     "output_type": "stream",
     "text": [
      "Fitting 5 folds for each of 270 candidates, totalling 1350 fits\n",
      "best parameters: {'learning_rate': 0.1, 'max_depth': 11, 'min_samples_leaf': 7, 'n_estimators': 100}\n"
     ]
    }
   ],
   "source": [
    "from sklearn.ensemble import GradientBoostingRegressor\n",
    "\n",
    "param_grid = {\n",
    "    'learning_rate': [0.01, 0.1, 0.5],\n",
    "    'max_depth': [2, 5, 6, 7, 9, 11],\n",
    "    'n_estimators': [10, 50, 100],\n",
    "    'min_samples_leaf': [1, 3, 5, 7, 9]\n",
    "}\n",
    "\n",
    "gbm = GradientBoostingRegressor(random_state=seed)\n",
    "\n",
    "cv_search = GridSearchCV(gbm, param_grid, cv=5, verbose=True, n_jobs=-1).fit(X_train, y_train)\n",
    "print(\"best parameters:\", cv_search.best_params_)\n",
    "# best parameters: {'learning_rate': 0.1, 'max_depth': 11, 'min_samples_leaf': 7, 'n_estimators': 100}"
   ]
  },
  {
   "cell_type": "code",
   "execution_count": 49,
   "id": "a8a86aa3-d35b-44d3-8fc9-e8db24833896",
   "metadata": {},
   "outputs": [
    {
     "name": "stdout",
     "output_type": "stream",
     "text": [
      "Training accuracy score 0.9865\n",
      "Cross-validated accuracy score: 0.9387\n",
      "Test performance: 0.9440\n"
     ]
    }
   ],
   "source": [
    "print('Training set {:.4f}'.format(cv_search.best_estimator_.fit(X_train, y_train).score(X_train, y_train)))\n",
    "print('Cross-validated set: {:.4f}'.format(cv_search.best_score_))\n",
    "print('Test set: {:.4f}'.format(cv_search.best_estimator_.score(X_test, y_test)))"
   ]
  },
  {
   "cell_type": "markdown",
   "id": "7a642a05-34c3-4335-bdec-873d8d34824c",
   "metadata": {},
   "source": [
    "## Method 5. Decision Trees"
   ]
  },
  {
   "cell_type": "markdown",
   "id": "79154d4c-69cc-4e00-b4f9-971065b3bea0",
   "metadata": {},
   "source": [
    "## Method 6. Random Forest"
   ]
  },
  {
   "cell_type": "code",
   "execution_count": null,
   "id": "10a95455-00d7-498a-aa98-6af13db3f80f",
   "metadata": {},
   "outputs": [],
   "source": [
    "from sklearn.ensemble import RandomForestRegressor\n"
   ]
  },
  {
   "cell_type": "markdown",
   "id": "07f44b1b-b319-4521-8561-b5b28f74a121",
   "metadata": {},
   "source": [
    "## Method 7. Support Vector Machine"
   ]
  },
  {
   "cell_type": "markdown",
   "id": "8c59f9a6-dd85-4017-8b57-5e6a257b4c92",
   "metadata": {},
   "source": [
    "## Method 8. Neural Networks"
   ]
  }
 ],
 "metadata": {
  "kernelspec": {
   "display_name": "Python 3 (ipykernel)",
   "language": "python",
   "name": "python3"
  },
  "language_info": {
   "codemirror_mode": {
    "name": "ipython",
    "version": 3
   },
   "file_extension": ".py",
   "mimetype": "text/x-python",
   "name": "python",
   "nbconvert_exporter": "python",
   "pygments_lexer": "ipython3",
   "version": "3.10.2"
  }
 },
 "nbformat": 4,
 "nbformat_minor": 5
}
