{
 "cells": [
  {
   "cell_type": "markdown",
   "id": "5fc10ae9-4d32-4975-9b58-4cdb80553d23",
   "metadata": {},
   "source": [
    "# INFO 251: Final project\n",
    "\n",
    "#### Members: Marius Brogaard Lerstein and Tuva Cornelia Oppenhagen\n",
    "\n",
    "## Introduction\n",
    "\n",
    "Bike sharing is a growing transportation method in many cities around the world, with over 500 rental programs with a total of over 500 thousand bikes, an important insight to the business is how many bikes are rented per day. With factors such as weather, weekend, temperature, wind information etc. affecting the number of rentals, this gives a good foundation for a machine learning classification problem. In our research project, we want to try out different classification algorithms to predict the amount of bikes that were rented in a given day. The models we want to try out include; logistic regression, Naive Bayes, K-Nearest Neighbors, Decision Trees, Random Forests.\n",
    "\n",
    "The dataset we are going to use contains the count of rental bikes between 2011 and 2012 in Washington, DC including information about the weather conditions and season. We are going to use the dataset containing hourly information in order to get more data to use in order to train and test our model.\n",
    "\n",
    "<b>Link to dataset:</b> https://www.kaggle.com/datasets/marklvl/bike-sharing-dataset\n",
    "\n",
    "As the different classification models require different data preprocessing, we want to split our work into finishing one model before starting on the next one. Therefore, we suggest these milestones for our deliverables:\n",
    "\n",
    "<b>Before 04/15/2023</b>: \n",
    "Implement model for logistic regression, naive bayes, K-Nearest Neighbors, with the required preprocessing.\n",
    "\n",
    "<b>Before 03/05/2023</b>: \n",
    "Implement the decision tree and random forest algorithms, with their required preprocessing. To conclude the results from all of our algorithms, our comparison between the accuracy values should also be described in this milestone.\n"
   ]
  },
  {
   "cell_type": "code",
   "execution_count": null,
   "id": "7d74d351-d3ef-4b33-af38-dbdf5d648b39",
   "metadata": {},
   "outputs": [],
   "source": []
  }
 ],
 "metadata": {
  "kernelspec": {
   "display_name": "Python 3 (ipykernel)",
   "language": "python",
   "name": "python3"
  },
  "language_info": {
   "codemirror_mode": {
    "name": "ipython",
    "version": 3
   },
   "file_extension": ".py",
   "mimetype": "text/x-python",
   "name": "python",
   "nbconvert_exporter": "python",
   "pygments_lexer": "ipython3",
   "version": "3.8.6"
  }
 },
 "nbformat": 4,
 "nbformat_minor": 5
}
