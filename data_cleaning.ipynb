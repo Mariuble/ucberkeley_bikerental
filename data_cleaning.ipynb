{
 "cells": [
  {
   "cell_type": "markdown",
   "id": "5fc10ae9-4d32-4975-9b58-4cdb80553d23",
   "metadata": {},
   "source": [
    "# INFO 251: Final project\n",
    "\n",
    "#### Members: Marius Brogaard Lerstein and Tuva Cornelia Oppenhagen\n",
    "\n",
    "## Introduction\n",
    "\n",
    "Bike sharing is a growing transportation method in many cities around the world, with over 500 rental programs with a total of over 500 thousand bikes, an important insight to the business is how many bikes are rented per day. With factors such as weather, weekend, temperature, wind information etc. affecting the number of rentals, this gives a good foundation for a machine learning classification problem. In our research project, we want to try out different classification algorithms to predict the amount of bikes that were rented in a given day. The models we want to try out include; logistic regression, Naive Bayes, K-Nearest Neighbors, Decision Trees, Random Forests.\n",
    "\n",
    "The dataset we are going to use contains the count of rental bikes between 2011 and 2012 in Washington, DC including information about the weather conditions and season. We are going to use the dataset containing hourly information in order to get more data to use in order to train and test our model.\n",
    "\n",
    "<b>Link to dataset:</b> https://www.kaggle.com/datasets/marklvl/bike-sharing-dataset\n",
    "\n",
    "As the different classification models require different data preprocessing, we want to split our work into finishing one model before starting on the next one. Therefore, we suggest these milestones for our deliverables:\n",
    "\n",
    "<b>Before 04/15/2023</b>: \n",
    "Implement model for logistic regression, naive bayes, K-Nearest Neighbors, with the required preprocessing.\n",
    "\n",
    "<b>Before 03/05/2023</b>: \n",
    "Implement the decision tree and random forest algorithms, with their required preprocessing. To conclude the results from all of our algorithms, our comparison between the accuracy values should also be described in this milestone.\n"
   ]
  },
  {
   "cell_type": "markdown",
   "id": "f684175a-a9b0-4c05-b0db-3813d0d65c0e",
   "metadata": {},
   "source": [
    "## EDA"
   ]
  },
  {
   "cell_type": "code",
   "execution_count": null,
   "id": "a9952a30-c100-4715-a3fd-c5d4797a756e",
   "metadata": {},
   "outputs": [],
   "source": [
    "import pandas as pd\n",
    "import matplotlib.pyplot as plt\n",
    "import random\n",
    "\n",
    "seed=99\n",
    "random.seed(seed)\n",
    "np.random.seed(seed)"
   ]
  },
  {
   "cell_type": "code",
   "execution_count": null,
   "id": "187d9438-4571-4808-8578-6491ea674d0a",
   "metadata": {},
   "outputs": [],
   "source": [
    "data = pd.read_csv('data/hour.csv')"
   ]
  },
  {
   "cell_type": "code",
   "execution_count": null,
   "id": "b36bee36-7d8e-4741-abf8-5c1fffaea405",
   "metadata": {},
   "outputs": [],
   "source": [
    "data.head()"
   ]
  },
  {
   "cell_type": "code",
   "execution_count": null,
   "id": "dfbf2722-4c58-4a35-9df6-1c020b9f8813",
   "metadata": {},
   "outputs": [],
   "source": [
    "data.dtypes"
   ]
  },
  {
   "cell_type": "code",
   "execution_count": null,
   "id": "58c0f856-d750-43d6-b79a-0a57f94f3b7b",
   "metadata": {},
   "outputs": [],
   "source": [
    "print('Contains missing values:', data.isnull().values.any())"
   ]
  },
  {
   "cell_type": "code",
   "execution_count": null,
   "id": "d256a75d-824c-429d-b63e-aa4aefc79cba",
   "metadata": {},
   "outputs": [],
   "source": [
    "print('Data shape:', data.shape)\n",
    "data.describe()"
   ]
  },
  {
   "cell_type": "markdown",
   "id": "a6bfb554-c0c8-44b8-88c5-830221ac4c6c",
   "metadata": {},
   "source": [
    "In the table above, we can see descriptive statistics of the 16 numerical features (of 17 total features)."
   ]
  },
  {
   "cell_type": "markdown",
   "id": "b075905b-09ee-4eb4-853e-c7fd6db80f2b",
   "metadata": {},
   "source": [
    "### Distribution of features\n",
    "Vizualise the data to improve insight. Try to identify patterns, trends, outliers etc."
   ]
  },
  {
   "cell_type": "code",
   "execution_count": null,
   "id": "68b83f19-8352-4452-ae7e-cd11280a5c89",
   "metadata": {},
   "outputs": [],
   "source": [
    "import seaborn as sns\n",
    "\n",
    "fig, axes = plt.subplots(nrows=4, ncols=5, figsize=(15, 10))\n",
    "axes = axes.flatten()\n",
    "\n",
    "# loop through each column and plot the distribution\n",
    "for i, col in enumerate(data.drop(['dteday'], axis=1).columns):\n",
    "    sns.histplot(data[col], ax=axes[i])\n",
    "    axes[i].set_title(col)\n",
    "\n",
    "plt.tight_layout()\n",
    "plt.show()"
   ]
  },
  {
   "cell_type": "markdown",
   "id": "bee23a10-ef95-4170-8a99-8ff5cce40fb1",
   "metadata": {},
   "source": [
    "From the descriptive statistics we see that the distributions of the features are varies. To avoid scaling issues that can impact the performance of some models it might be a good idea to perform normalization and standardization."
   ]
  },
  {
   "cell_type": "markdown",
   "id": "c945ea4d-8e4f-46e5-bc60-7577a0feff1b",
   "metadata": {},
   "source": [
    "## Data cleaning"
   ]
  },
  {
   "cell_type": "code",
   "execution_count": null,
   "id": "e617adf0-7231-4232-bf30-57a2623cda3d",
   "metadata": {},
   "outputs": [],
   "source": [
    "data = data.drop(columns=['dteday', 'casual', 'registered'])"
   ]
  },
  {
   "cell_type": "code",
   "execution_count": null,
   "id": "205b5d8d-428b-41ed-a5f0-e5582ccc02ea",
   "metadata": {},
   "outputs": [],
   "source": [
    "data['weathersit'].value_counts()"
   ]
  },
  {
   "cell_type": "markdown",
   "id": "4aba519c-abdc-40b2-b126-06f27014725a",
   "metadata": {},
   "source": [
    "## Feature Engineering"
   ]
  },
  {
   "cell_type": "markdown",
   "id": "db24777d-4de7-4ee5-b2c8-1393531c3880",
   "metadata": {},
   "source": [
    "#### Encoding categorical variables to numerical values"
   ]
  },
  {
   "cell_type": "code",
   "execution_count": null,
   "id": "f5278541-9f97-4f33-8a34-87691cd265dd",
   "metadata": {},
   "outputs": [],
   "source": [
    "data.head()"
   ]
  },
  {
   "cell_type": "code",
   "execution_count": null,
   "id": "d26f4c18-987f-4075-9ee8-71adeaaca3cb",
   "metadata": {},
   "outputs": [],
   "source": [
    "from sklearn.preprocessing import OneHotEncoder\n",
    "\n",
    "ohe = OneHotEncoder()\n",
    "trans_season = ohe.fit_transform(data[['season']])\n",
    "data[ohe.categories_[0]] = trans_season.toarray()\n",
    "data = data.drop(columns=['season'])\n",
    "data = data.rename(columns={1:'season_1', 2:'season_2', 3:'season_3', 4:'season_4'})"
   ]
  },
  {
   "cell_type": "code",
   "execution_count": null,
   "id": "7005d919-3646-4b50-b8bc-cc283ef30c18",
   "metadata": {},
   "outputs": [],
   "source": [
    "ohe = OneHotEncoder()\n",
    "trans_yr = ohe.fit_transform(data[['yr']])\n",
    "data[ohe.categories_[0]] = trans_yr.toarray()\n",
    "data = data.drop(columns=['yr'])\n",
    "data = data.rename(columns={0:'year_0', 1:'year_1'})"
   ]
  },
  {
   "cell_type": "code",
   "execution_count": null,
   "id": "c7062145-e22e-471a-be8b-ee173d5e8bb0",
   "metadata": {},
   "outputs": [],
   "source": [
    "ohe = OneHotEncoder()\n",
    "trans_mnth = ohe.fit_transform(data[['mnth']])\n",
    "data[ohe.categories_[0]] = trans_mnth.toarray()\n",
    "data = data.drop(columns=['mnth'])\n",
    "data = data.rename(columns={1:'mnth_1', 2:'mnth_2', 3:'mnth_3', 4:'mnth_4', 5:'mnth_5', 6:'mnth_6', 7:'mnth_7', 8:'mnth_8', 9:'mnth_9', 10:'mnth_10', 11:'mnth_11', 12:'mnth_12'})"
   ]
  },
  {
   "cell_type": "code",
   "execution_count": null,
   "id": "8e15a093-da86-4970-8da2-59c5bd22c8ad",
   "metadata": {},
   "outputs": [],
   "source": [
    "ohe = OneHotEncoder()\n",
    "trans_hr = ohe.fit_transform(data[['hr']])\n",
    "data[ohe.categories_[0]] = trans_hr.toarray()\n",
    "data = data.drop(columns=['hr'])\n",
    "data = data.rename(columns={0:'hr_0', 1:'hr_1', 2:'hr_2', 3:'hr_3', 4:'hr_4', 5:'hr_5', 6:'hr_6', 7:'hr_7', 8:'hr_8', 9:'hr_9', 10:'hr_10', 11:'hr_11', 12:'hr_12', 13:'hr_13', 14:'hr_14', 15:'hr_15', 16:'hr_16', 17:'hr_17', 18:'hr_18', 19:'hr_19', 20:'hr_20', 21:'hr_21', 22:'hr_22', 23:'hr_23'})"
   ]
  },
  {
   "cell_type": "code",
   "execution_count": null,
   "id": "73bf6a84-ec56-4e8c-8227-e691da3a904f",
   "metadata": {},
   "outputs": [],
   "source": [
    "ohe = OneHotEncoder()\n",
    "trans_holiday = ohe.fit_transform(data[['holiday']])\n",
    "data[ohe.categories_[0]] = trans_holiday.toarray()\n",
    "data = data.drop(columns=['holiday'])\n",
    "data = data.rename(columns={0:'holiday_0', 1:'holiday_1'})"
   ]
  },
  {
   "cell_type": "code",
   "execution_count": null,
   "id": "1de524cf-d563-420e-96dc-6142233ac32c",
   "metadata": {},
   "outputs": [],
   "source": [
    "ohe = OneHotEncoder()\n",
    "trans_weekday = ohe.fit_transform(data[['weekday']])\n",
    "data[ohe.categories_[0]] = trans_weekday.toarray()\n",
    "data = data.drop(columns=['weekday'])\n",
    "data = data.rename(columns={0:'weekday_0', 1:'weekday_1', 2:'weekday_2', 3:'weekday_3', 4:'weekday_4', 5:'weekday_5', 6:'weekday_6'})"
   ]
  },
  {
   "cell_type": "code",
   "execution_count": null,
   "id": "82fa3425-fa72-4176-83d1-d8f4a8f386dd",
   "metadata": {},
   "outputs": [],
   "source": [
    "ohe = OneHotEncoder()\n",
    "trans_workingday = ohe.fit_transform(data[['workingday']])\n",
    "data[ohe.categories_[0]] = trans_workingday.toarray()\n",
    "data = data.drop(columns=['workingday'])\n",
    "data = data.rename(columns={0:'workingday_0', 1:'workingday_1'})"
   ]
  },
  {
   "cell_type": "code",
   "execution_count": null,
   "id": "6fd2ae14-09a2-4a07-accb-b6779b736643",
   "metadata": {},
   "outputs": [],
   "source": [
    "ohe = OneHotEncoder()\n",
    "trans_weathersit = ohe.fit_transform(data[['weathersit']])\n",
    "data[ohe.categories_[0]] = trans_weathersit.toarray()\n",
    "data = data.drop(columns=['weathersit'])\n",
    "data = data.rename(columns={1:'weathersit_1', 2:'weathersit_2', 3:'weathersit_3', 4:'weathersit_4'})"
   ]
  },
  {
   "cell_type": "code",
   "execution_count": null,
   "id": "c9f5488b-86a8-46ad-b772-f7fbfc783cd6",
   "metadata": {},
   "outputs": [],
   "source": [
    "print(data.columns)\n",
    "print(len(data.columns))"
   ]
  },
  {
   "cell_type": "markdown",
   "id": "8ac198af-2f09-4408-b9b3-7418b5812b72",
   "metadata": {},
   "source": [
    "### Store the dataframe as CSV to save computing."
   ]
  },
  {
   "cell_type": "code",
   "execution_count": null,
   "id": "3c1da10f-2493-4e94-97c3-3a641c1d3437",
   "metadata": {},
   "outputs": [],
   "source": [
    "data.to_csv('data/rental.csv', index=False)"
   ]
  }
 ],
 "metadata": {
  "kernelspec": {
   "display_name": "Python 3 (ipykernel)",
   "language": "python",
   "name": "python3"
  },
  "language_info": {
   "codemirror_mode": {
    "name": "ipython",
    "version": 3
   },
   "file_extension": ".py",
   "mimetype": "text/x-python",
   "name": "python",
   "nbconvert_exporter": "python",
   "pygments_lexer": "ipython3",
   "version": "3.10.2"
  }
 },
 "nbformat": 4,
 "nbformat_minor": 5
}
