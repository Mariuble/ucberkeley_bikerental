{
 "cells": [
  {
   "cell_type": "markdown",
   "id": "9d77ab7e-b68d-4249-a5d1-de568cb9a4e7",
   "metadata": {},
   "source": [
    "In this notebook, we will use classification algorithms to predict the number of rented bikes for a given day"
   ]
  },
  {
   "cell_type": "markdown",
   "id": "c2262965-d6b1-4688-94f5-849525b47960",
   "metadata": {},
   "source": [
    "### Load data"
   ]
  },
  {
   "cell_type": "code",
   "execution_count": null,
   "id": "98423efd-6a92-4e60-8796-ae1e1af30319",
   "metadata": {},
   "outputs": [],
   "source": [
    "rental = pd.read_csv('data/rental.csv')"
   ]
  },
  {
   "cell_type": "markdown",
   "id": "772db05f-20d7-42fb-99cf-478a3faece5c",
   "metadata": {},
   "source": [
    "# Predictive modeling"
   ]
  },
  {
   "cell_type": "code",
   "execution_count": null,
   "id": "f1a2b037-eefe-4c2b-ae87-a28eb7470f80",
   "metadata": {},
   "outputs": [],
   "source": []
  }
 ],
 "metadata": {
  "kernelspec": {
   "display_name": "Python 3 (ipykernel)",
   "language": "python",
   "name": "python3"
  },
  "language_info": {
   "codemirror_mode": {
    "name": "ipython",
    "version": 3
   },
   "file_extension": ".py",
   "mimetype": "text/x-python",
   "name": "python",
   "nbconvert_exporter": "python",
   "pygments_lexer": "ipython3",
   "version": "3.10.2"
  }
 },
 "nbformat": 4,
 "nbformat_minor": 5
}
